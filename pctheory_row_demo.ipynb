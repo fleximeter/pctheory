{
 "cells": [
  {
   "cell_type": "markdown",
   "metadata": {},
   "source": [
    "# Working with Rows and Ordered Collections in `pctheory`"
   ]
  },
  {
   "cell_type": "markdown",
   "metadata": {},
   "source": [
    "`pctheory` uses standard Python lists to work with rows and row fragments. Row fragments are called \"pcsegs\" which stands for \"pitch class segments.\""
   ]
  },
  {
   "cell_type": "code",
   "execution_count": null,
   "metadata": {},
   "outputs": [
    {
     "name": "stdout",
     "output_type": "stream",
     "text": [
      "[1, 5, 7, 4]\n",
      "[1, 5, 7, 4, 0, 9, B, 8, A, 2, 3, 6]\n"
     ]
    }
   ],
   "source": [
    "from pctheory import pitch, pcseg, transformations\n",
    "\n",
    "# A pitch-class segment (pcseg)\n",
    "frag1 = [pitch.PitchClass(1), pitch.PitchClass(5), pitch.PitchClass(7), pitch.PitchClass(4)]\n",
    "# Another way to make the same thing:\n",
    "frag1 = pcseg.make_pcseg12(1, 5, 7, 4)\n",
    "print(frag1)\n",
    "\n",
    "row1 = pcseg.make_pcseg12(1, 5, 7, 4, 0, 9, 11, 8, 10, 2, 3, 6)\n",
    "print(row1)"
   ]
  },
  {
   "cell_type": "markdown",
   "metadata": {},
   "source": [
    "You can, of course, make a twelve-tone row by listing all twelve pitch-classes in order. But you can also generate rows using functionality in `pctheory.pcseg`. For example, say you just want a random twelve-tone row:"
   ]
  },
  {
   "cell_type": "code",
   "execution_count": 2,
   "metadata": {},
   "outputs": [
    {
     "name": "stdout",
     "output_type": "stream",
     "text": [
      "[8, A, 9, 2, 3, 6, 7, 1, B, 5, 0, 4]\n"
     ]
    }
   ],
   "source": [
    "row2 = pcseg.generate_random_pcseg12(12, True)\n",
    "print(row2)"
   ]
  },
  {
   "cell_type": "markdown",
   "metadata": {},
   "source": [
    "There are special rows in twelve-tone theory, such as all-interval rows and all-trichord rows. `pctheory` can generate random rows with these characteristics. An all-interval rows contains each of the 11 ordered pitch-class intervals exactly once. An all-trichord row contains each of the 12 trichordal set-classes as imbricated fragments. This means that if you take any chunk of 3 adjacent pitch-classes in the row, you will find each of the 12 trichordal set-classes exactly once. (You have to connect the first and last pitch-classes in the row to make this work.)"
   ]
  },
  {
   "cell_type": "code",
   "execution_count": 3,
   "metadata": {},
   "outputs": [
    {
     "name": "stdout",
     "output_type": "stream",
     "text": [
      "[9, 2, B, 1, 0, 4, A, 6, 7, 5, 8, 3]\n",
      "[0, 2, 7, A, 1, 9, 5, 3, 4, 8, 6, B]\n"
     ]
    }
   ],
   "source": [
    "row3 = pcseg.generate_random_all_interval_row()\n",
    "row4 = pcseg.generate_random_all_trichord_row()\n",
    "print(row3)\n",
    "print(row4)"
   ]
  },
  {
   "cell_type": "markdown",
   "metadata": {},
   "source": [
    "We can prove that `row4` is an all-trichord row:"
   ]
  },
  {
   "cell_type": "code",
   "execution_count": 4,
   "metadata": {},
   "outputs": [
    {
     "name": "stdout",
     "output_type": "stream",
     "text": [
      "[(3-9)[027], (3-11)[037], (3-10)[036], (3-3)[014], (3-12)[048], (3-8)[026], (3-1)[012], (3-4)[015], (3-6)[024], (3-7)[025]]\n"
     ]
    }
   ],
   "source": [
    "scs = pcseg.imb_n(row4, 3)\n",
    "print(scs)"
   ]
  },
  {
   "cell_type": "markdown",
   "metadata": {},
   "source": [
    "This proves that there are at least 10 trichordal set-classes in there. To get all 12, we need to add the first two pitches of the row at the end. Now the list of imbricated trichordal set-classes contains all twelve trichordal set-classes."
   ]
  },
  {
   "cell_type": "code",
   "execution_count": 5,
   "metadata": {},
   "outputs": [
    {
     "name": "stdout",
     "output_type": "stream",
     "text": [
      "[0, 2, 7, A, 1, 9, 5, 3, 4, 8, 6, B, 0, 2]\n",
      "[(3-9)[027], (3-11)[037], (3-10)[036], (3-3)[014], (3-12)[048], (3-8)[026], (3-1)[012], (3-4)[015], (3-6)[024], (3-7)[025], (3-5)[016], (3-2)[013]]\n"
     ]
    }
   ],
   "source": [
    "row4a = row4 + row4[:2]\n",
    "print(row4a)\n",
    "scs = pcseg.imb_n(row4a, 3)\n",
    "print(scs)"
   ]
  },
  {
   "cell_type": "markdown",
   "metadata": {},
   "source": [
    "If you'd like to make a twelve-tone matrix, here is how you do that."
   ]
  },
  {
   "cell_type": "code",
   "execution_count": 6,
   "metadata": {},
   "outputs": [
    {
     "name": "stdout",
     "output_type": "stream",
     "text": [
      "     T0I   T2I   T7I   T10I  T1I   T9I   T5I   T3I   T4I   T8I   T6I   T11I  \n",
      "T0    0     2     7     A     1     9     5     3     4     8     6     B    T0R\n",
      "T10   A     0     5     8     B     7     3     1     2     6     4     9   T10R\n",
      "T5    5     7     0     3     6     2     A     8     9     1     B     4    T5R\n",
      "T2    2     4     9     0     3     B     7     5     6     A     8     1    T2R\n",
      "T11   B     1     6     9     0     8     4     2     3     7     5     A   T11R\n",
      "T3    3     5     A     1     4     0     8     6     7     B     9     2    T3R\n",
      "T7    7     9     2     5     8     4     0     A     B     3     1     6    T7R\n",
      "T9    9     B     4     7     A     6     2     0     1     5     3     8    T9R\n",
      "T8    8     A     3     6     9     5     1     B     0     4     2     7    T8R\n",
      "T4    4     6     B     2     5     1     9     7     8     0     A     3    T4R\n",
      "T6    6     8     1     4     7     3     B     9     A     2     0     5    T6R\n",
      "T1    1     3     8     B     2     A     6     4     5     9     7     0    T1R\n",
      "     T0RI  T2RI  T7RI  T10RI T1RI  T9RI  T5RI  T3RI  T4RI  T8RI  T6RI  T11RI \n"
     ]
    }
   ],
   "source": [
    "mx = pcseg.TwelveToneMatrix(row4)\n",
    "print(mx)"
   ]
  },
  {
   "cell_type": "markdown",
   "metadata": {},
   "source": [
    "However, you might not actually need to generate the matrix because it is easy to transform the row and search transformed row-forms using `pctheory`. For example, to transform a row:"
   ]
  },
  {
   "cell_type": "code",
   "execution_count": 7,
   "metadata": {},
   "outputs": [
    {
     "name": "stdout",
     "output_type": "stream",
     "text": [
      "[4, B, 1, 9, 8, A, 2, 6, 3, 0, 7, 5]\n",
      "[4, 2, 9, 6, 3, 7, B, 1, 0, 8, A, 5]\n",
      "[9, B, 4, 7, A, 6, 2, 0, 1, 5, 3, 8]\n",
      "[A, 3, 1, 5, 6, 4, 0, 8, B, 2, 7, 9]\n"
     ]
    }
   ],
   "source": [
    "ro = transformations.get_otos12()\n",
    "print(ro[\"T5R\"].transform(row4))\n",
    "print(ro[\"T4I\"].transform(row4))\n",
    "print(ro[\"T9\"].transform(row4))\n",
    "print(ro[\"T9RI\"].transform(row4))"
   ]
  },
  {
   "cell_type": "markdown",
   "metadata": {},
   "source": [
    "And to find a row form with a specific ordered succession of pitch-classes (note that you might need to edit the row fragment to find any results):"
   ]
  },
  {
   "cell_type": "code",
   "execution_count": 8,
   "metadata": {},
   "outputs": [],
   "source": [
    "row_frag = pcseg.make_pcseg12(5, 9, 0)\n",
    "row_class = pcseg.get_row_class(row4)\n",
    "rows = pcseg.adjacent_search(row_frag, row_class)\n",
    "for row in rows:\n",
    "    tx = transformations.find_otos(row4, row)\n",
    "    print(f\"{tx}: {row}\")"
   ]
  },
  {
   "cell_type": "markdown",
   "metadata": {},
   "source": [
    "If you're a good twelve-tone composer, you probably want to study your row before using it. We'll revert back to `row1` that we generated, and look at what imbricated trichords it contains."
   ]
  },
  {
   "cell_type": "code",
   "execution_count": 9,
   "metadata": {},
   "outputs": [
    {
     "name": "stdout",
     "output_type": "stream",
     "text": [
      "[(3-8)[026], (3-2)[013], (3-11)[037], (3-11)[037], (3-2)[013], (3-2)[013], (3-2)[013], (3-8)[026], (3-4)[015], (3-3)[014]]\n"
     ]
    }
   ],
   "source": [
    "imb1 = pcseg.imb_n(row1, 3)\n",
    "print(imb1)"
   ]
  },
  {
   "cell_type": "markdown",
   "metadata": {},
   "source": [
    "It is very likely that this randomly generated row contains at least one trichord more than once. This means that you can bring out that trichord in a composition. You can do the same for tetrachords and chords of other sizes. Note that the all-trichord row that we generated earlier has each trichord exactly once (under rotation), which lets you achieve great harmonic diversity.\n",
    "\n",
    "The next thing we'll do is generate an invariance matrix. This tells us how a row behaves under transformation."
   ]
  },
  {
   "cell_type": "code",
   "execution_count": 12,
   "metadata": {},
   "outputs": [
    {
     "name": "stdout",
     "output_type": "stream",
     "text": [
      "    1 5 7 4 0 9 B 8 A 2 3 6 \n",
      "   ------------------------\n",
      "B |                       5 \n",
      "7 |                 5       \n",
      "5 |         5               \n",
      "8 |           5             \n",
      "0 |   5                     \n",
      "3 |                   5     \n",
      "1 |       5                 \n",
      "4 | 5                       \n",
      "2 |                     5   \n",
      "A |     5                   \n",
      "9 |               5         \n",
      "6 |             5           \n"
     ]
    }
   ],
   "source": [
    "imx = pcseg.InvarianceMatrix(row1, row1, \"T\")\n",
    "imx.print({pitch.PitchClass(5)})"
   ]
  },
  {
   "cell_type": "markdown",
   "metadata": {},
   "source": [
    "The invariance matrix tells us what happens to the order of the pitch classes in the row when we (in this case) transpose by 5. If you print out the row and its $T_5$ transformation, you'll see that the row has been shuffled as the matrix predicted. The invariance matrix helps us see what successions of pitch classes are preserved under transformation."
   ]
  },
  {
   "cell_type": "code",
   "execution_count": 13,
   "metadata": {},
   "outputs": [
    {
     "name": "stdout",
     "output_type": "stream",
     "text": [
      "[1, 5, 7, 4, 0, 9, B, 8, A, 2, 3, 6]\n",
      "[6, A, 0, 9, 5, 2, 4, 1, 3, 7, 8, B]\n"
     ]
    }
   ],
   "source": [
    "print(row1)\n",
    "print(ro[\"T5\"].transform(row1))"
   ]
  },
  {
   "cell_type": "markdown",
   "metadata": {},
   "source": [
    "Finally, we'll generate a rotational array in the style of Stravinsky."
   ]
  },
  {
   "cell_type": "code",
   "execution_count": 14,
   "metadata": {},
   "outputs": [
    {
     "name": "stdout",
     "output_type": "stream",
     "text": [
      "0 4 3 8 B 7 \n",
      "0 B 4 7 3 8 \n",
      "0 5 8 4 9 1 \n",
      "0 3 B 4 8 7 \n",
      "0 8 1 5 4 9 \n",
      "0 5 9 8 1 4 \n"
     ]
    }
   ],
   "source": [
    "from pctheory import pcarray\n",
    "frag = pcseg.make_pcseg12(5, 9, 8, 1, 4, 0)\n",
    "arr = pcarray.RotationalArray(frag)\n",
    "print(arr)"
   ]
  }
 ],
 "metadata": {
  "kernelspec": {
   "display_name": "general",
   "language": "python",
   "name": "python3"
  },
  "language_info": {
   "codemirror_mode": {
    "name": "ipython",
    "version": 3
   },
   "file_extension": ".py",
   "mimetype": "text/x-python",
   "name": "python",
   "nbconvert_exporter": "python",
   "pygments_lexer": "ipython3",
   "version": "3.12.3"
  }
 },
 "nbformat": 4,
 "nbformat_minor": 2
}
