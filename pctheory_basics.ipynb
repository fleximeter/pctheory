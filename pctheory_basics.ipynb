{
 "cells": [
  {
   "cell_type": "markdown",
   "metadata": {},
   "source": [
    "# `pctheory` basics"
   ]
  },
  {
   "cell_type": "markdown",
   "metadata": {},
   "source": [
    "`pctheory` is a Python library for working with atonal theory. The most fundamental classes in the `pctheory` library are `pctheory.pitch.Pitch`, `pctheory.pitch.PitchClass`, `pctheory.transformations.OTO`, and `pctheory.transformations.UTO`. This basic guide to `pctheory` shows you how to use these classes.\n",
    "\n",
    "`pctheory` uses standard Python data structures to represent sets (the Python `set`) and rows (the Python `list`)."
   ]
  },
  {
   "cell_type": "markdown",
   "metadata": {},
   "source": [
    "## Basic structures\n",
    "The example below shows how to make pitches, pitch-classes, pitch-class sets, and an ordered pitch-class hexachord (half of a twelve-tone row). You'll notice that `pctheory` represents pitch-class 10 as `A` and pitch-class 11 as `B`."
   ]
  },
  {
   "cell_type": "code",
   "execution_count": 1,
   "metadata": {},
   "outputs": [
    {
     "name": "stdout",
     "output_type": "stream",
     "text": [
      "14\n",
      "4\n",
      "{A, 5, 3}\n",
      "[3, 5, 2, 0, 9, B]\n"
     ]
    }
   ],
   "source": [
    "from pctheory import pitch, pcseg, pcset, transformations\n",
    "\n",
    "# A pitch. 0 is C4 (corresponding to 60 in MIDI)\n",
    "p1 = pitch.Pitch(14)\n",
    "\n",
    "# A pitch-class\n",
    "pc1 = pitch.PitchClass(4)\n",
    "\n",
    "# A pitch-class set\n",
    "set1 = {pitch.PitchClass(5), pitch.PitchClass(3), pitch.PitchClass(10)}\n",
    "\n",
    "# An easier way to make the same pitch-class set\n",
    "set1 = pcset.make_pcset12(5, 3, 10)\n",
    "\n",
    "# An ordered hexachord\n",
    "permutation1 = [pitch.PitchClass(3), pitch.PitchClass(5), pitch.PitchClass(2), pitch.PitchClass(0), pitch.PitchClass(9), pitch.PitchClass(11)]\n",
    "\n",
    "# An easier way to make the same ordered hexachord\n",
    "permutation1 = pcseg.make_pcseg12(3, 5, 2, 0, 9, 11)\n",
    "\n",
    "print(p1)\n",
    "print(pc1)\n",
    "print(set1)\n",
    "print(permutation1)"
   ]
  },
  {
   "cell_type": "markdown",
   "metadata": {},
   "source": [
    "## Operators\n",
    "The `OTO` and `UTO` classes in the `transformations` module are for working with `PitchClass` objects and collections of `PitchClass`es.\n",
    "\n",
    "`OTO` stands for \"ordered tone operator\" and corresponds to a \"row operator\" or \"RO\" in Robert Morris's terminology.\n",
    "`UTO` stands for \"unordered tone operator\" and corresponds to a \"twelve tone operator\" or \"TTO\" in Robert Morris's terminology. These terms have been renamed here because `pctheory` allows working with 24-tone microtonal structures.\n",
    "\n",
    "If you are transforming a single pitch-class or a pitch-class set, you should use `UTO`. The `UTO` class lets you perform a multiplication operation, followed by a transposition operation. (Note that inversion is the same as multiplying by 11, mod 12)."
   ]
  },
  {
   "cell_type": "code",
   "execution_count": 2,
   "metadata": {},
   "outputs": [
    {
     "name": "stdout",
     "output_type": "stream",
     "text": [
      "1\n",
      "{2, 7, 0}\n"
     ]
    }
   ],
   "source": [
    "# T5I (invert, then transpose by 5 semitones)\n",
    "op1 = transformations.UTO(5, 11)\n",
    "\n",
    "# The same operator can transform a pitch-class or a pitch-class set\n",
    "print(op1.transform(pc1))\n",
    "print(op1.transform(set1))"
   ]
  },
  {
   "cell_type": "markdown",
   "metadata": {},
   "source": [
    "If you are transforming a twelve-tone row (or other ordered permutation of pitch-classes), you should use `OTO`. This operator lets you perform a multiplication operation, followed by a transposition operation. It also allows you to perform a retrograde operation."
   ]
  },
  {
   "cell_type": "code",
   "execution_count": 3,
   "metadata": {},
   "outputs": [
    {
     "name": "stdout",
     "output_type": "stream",
     "text": [
      "[3, 1, 4, 6, 9, 7]\n",
      "[1, B, 2, 4, 7, 5]\n"
     ]
    }
   ],
   "source": [
    "# T4R (multiply by 1, which does nothing, transpose by 4, and retrograde)\n",
    "op2 = transformations.OTO(4, 1, 1)\n",
    "\n",
    "# T4I (multiply by 11, which inverts, transpose by 4, and do not retrograde)\n",
    "op3 = transformations.OTO(4, 0, 11)\n",
    "\n",
    "print(op2.transform(permutation1))\n",
    "print(op3.transform(permutation1))"
   ]
  },
  {
   "cell_type": "markdown",
   "metadata": {},
   "source": [
    "If you want to combine several transformations into one simpler transformation, you can use the \"left multiply\" feature in the `transformations` module. This is because any operator of the form $T_{n_1}M_{m_1}$ where $m \\in \\{1, 5, 7, 11\\}$ can be combined with any other operator of the form $T_{n_2}M_{m_2}$ to make an operator of the form $T_{n_3}M_{m_3}$ using the formula $T_{n_1}M_{m_1}T_{n_2}M_{m_2} = T_{n_1m_2 + n_2}M_{m_1m_2}$."
   ]
  },
  {
   "cell_type": "code",
   "execution_count": 4,
   "metadata": {},
   "outputs": [
    {
     "name": "stdout",
     "output_type": "stream",
     "text": [
      "T10M11\n"
     ]
    }
   ],
   "source": [
    "op4 = transformations.UTO(5, 1)\n",
    "op5 = transformations.UTO(2, 11)\n",
    "op6 = transformations.UTO(9, 1)\n",
    "\n",
    "combined = transformations.left_multiply_utos(op4, op5, op6)\n",
    "print(combined)"
   ]
  },
  {
   "cell_type": "markdown",
   "metadata": {},
   "source": [
    "It is often convenient to have all of the standard operators in a dictionary, so they can be used any time:"
   ]
  },
  {
   "cell_type": "code",
   "execution_count": 5,
   "metadata": {},
   "outputs": [
    {
     "name": "stdout",
     "output_type": "stream",
     "text": [
      "{'T0': T0, 'T0M': T0M5, 'T0MI': T0M7, 'T0I': T0M11, 'T1': T1, 'T1M': T1M5, 'T1MI': T1M7, 'T1I': T1M11, 'T2': T2, 'T2M': T2M5, 'T2MI': T2M7, 'T2I': T2M11, 'T3': T3, 'T3M': T3M5, 'T3MI': T3M7, 'T3I': T3M11, 'T4': T4, 'T4M': T4M5, 'T4MI': T4M7, 'T4I': T4M11, 'T5': T5, 'T5M': T5M5, 'T5MI': T5M7, 'T5I': T5M11, 'T6': T6, 'T6M': T6M5, 'T6MI': T6M7, 'T6I': T6M11, 'T7': T7, 'T7M': T7M5, 'T7MI': T7M7, 'T7I': T7M11, 'T8': T8, 'T8M': T8M5, 'T8MI': T8M7, 'T8I': T8M11, 'T9': T9, 'T9M': T9M5, 'T9MI': T9M7, 'T9I': T9M11, 'T10': T10, 'T10M': T10M5, 'T10MI': T10M7, 'T10I': T10M11, 'T11': T11, 'T11M': T11M5, 'T11MI': T11M7, 'T11I': T11M11}\n",
      "{2, 7, 0}\n",
      "{2, 4, 9}\n",
      "{4, 6, 5}\n",
      "{2, 1, 3}\n"
     ]
    }
   ],
   "source": [
    "tto = transformations.get_utos12()  # gets all of the TTOs\n",
    "print(tto)\n",
    "print(tto[\"T5I\"].transform(set1))\n",
    "print(tto[\"T11\"].transform(set1))\n",
    "print(tto[\"T3M\"].transform(set1))\n",
    "print(tto[\"T4MI\"].transform(set1))"
   ]
  },
  {
   "cell_type": "markdown",
   "metadata": {},
   "source": [
    "The `UTO` and `OTO` classes are not the only way to transform pitch-class sets and rows. You can also use these functions:\n",
    "- `pctheory.pcseg.invert`\n",
    "- `pctheory.pcseg.multiply`\n",
    "- `pctheory.pcseg.transpose`\n",
    "- `pctheory.pcset.invert`\n",
    "- `pctheory.pcset.multiply`\n",
    "- `pctheory.pcset.transpose`\n",
    "\n",
    "However, it is often simpler to use an operator class to perform a given transformation."
   ]
  },
  {
   "cell_type": "markdown",
   "metadata": {},
   "source": [
    "## Mathematical foundation of operators\n",
    "The `OTO` and `UTO` operators use addition and multiplication mod 12.\n",
    "\n",
    "### Transposition\n",
    "Transposition corresponds to addition. $T_5(9) = (9 + 5) \\textrm{ mod } 12 = 2$.\n",
    "\n",
    "### Multiplication\n",
    "There are four multipliers that work for multiplication: 1, 5, 7, and 11. The other multipliers aren't one-to-one operations (they can't produce all twelve pitch-classes), which makes them unsuitable for most uses.\n",
    "\n",
    "Multiplication by 1 is an *identity* operation - it makes no change. $M_1(9) = (9 \\cdot 1) \\textrm{ mod } 12 = 9$.\n",
    "\n",
    "Multiplication by 11 is equivalent to inversion. $M_{11}(9) = I(9) = (9 \\cdot 11) \\textrm{ mod } 12 = 3$.\n",
    "\n",
    "Multiplication by 5 sometimes maps into the same set-class, and sometimes into a different set-class. The same is true of multiplication by 7. It turns out that multiplication by 7 is the same as multiplication by 5, then multiplication by 11. For this reason, $M_{11}$ (inversion) is often denoted as $I$, $M_5$ is often denoted simply as $M$, and $M_7$ is often denoted as $MI$.\n",
    "\n",
    "### Why multiply first, then transpose?\n",
    "You don't have to multiply first - you can perform the multiplication second. However, this will always be the same as some other operation that performed the multiplication first, then transposition second. The index of transposition may be different, but the result will be the same. For simplicity, the operators in `pctheory` multiply first."
   ]
  },
  {
   "cell_type": "markdown",
   "metadata": {},
   "source": [
    "## Conclusion\n",
    "This tutorial covers the basics of working with `pctheory`. For more specific information, check out the tutorials on pitch class sets and rows."
   ]
  }
 ],
 "metadata": {
  "kernelspec": {
   "display_name": "general",
   "language": "python",
   "name": "python3"
  },
  "language_info": {
   "codemirror_mode": {
    "name": "ipython",
    "version": 3
   },
   "file_extension": ".py",
   "mimetype": "text/x-python",
   "name": "python",
   "nbconvert_exporter": "python",
   "pygments_lexer": "ipython3",
   "version": "3.12.3"
  }
 },
 "nbformat": 4,
 "nbformat_minor": 2
}
